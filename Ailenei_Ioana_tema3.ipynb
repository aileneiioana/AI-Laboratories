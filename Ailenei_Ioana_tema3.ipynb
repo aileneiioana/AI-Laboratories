{
 "cells": [
  {
   "cell_type": "code",
   "execution_count": 8,
   "id": "f316cbd0-d98b-47fc-93fa-38b71390491b",
   "metadata": {},
   "outputs": [
    {
     "name": "stdout",
     "output_type": "stream",
     "text": [
      "9.529725274285566\n",
      "24.84814444302033\n"
     ]
    }
   ],
   "source": [
    "import csv\n",
    "import random\n",
    "x= []\n",
    "y=[]\n",
    "with open(r'C:/Users/Ioana/Desktop/IA/Salary_Data.csv') as csvfile:\n",
    "    readCSV = csv.reader(csvfile)\n",
    "    next(readCSV)\n",
    "    for row in readCSV:\n",
    "            x.append(float(row[0]))\n",
    "            y.append(float(row[1]))\n",
    "w1=random.randint(1, 100)\n",
    "w2=random.randint(1, 100)\n",
    "w_n1 = 1\n",
    "w_n2 = 1\n",
    "c = 0.01\n",
    "df_w1 = 0 \n",
    "df_w2 = 0\n",
    "\n",
    "while(1):\n",
    "    \n",
    "    for i,j in zip(x,y):\n",
    "        df_w1 = df_w1+(j-(w1*i+w2))*i\n",
    "        df_w2 = df_w2+j-(w1*i+w2)\n",
    "    df_w1 = -df_w1/len(x)\n",
    "    df_w2 = -df_w2/len(x)\n",
    "\n",
    "    w_n1 = w1 - c*df_w1\n",
    "    w_n2 = w2 - c*df_w2 \n",
    "    if abs(w1-w_n1) <0.0001 and abs(w2-w_n2) < 0.0001 : \n",
    "        break\n",
    "        \n",
    "    w1 = w_n1\n",
    "    w2 = w_n2\n",
    "    \n",
    "print(w1)\n",
    "print(w2)"
   ]
  },
  {
   "cell_type": "code",
   "execution_count": null,
   "id": "6a87181b-1ddc-41f3-b61c-439d76816ce6",
   "metadata": {},
   "outputs": [],
   "source": []
  },
  {
   "cell_type": "code",
   "execution_count": null,
   "id": "5f2fa469-efc3-444d-9241-e6541afd8339",
   "metadata": {},
   "outputs": [],
   "source": []
  }
 ],
 "metadata": {
  "kernelspec": {
   "display_name": "Python 3",
   "language": "python",
   "name": "python3"
  },
  "language_info": {
   "codemirror_mode": {
    "name": "ipython",
    "version": 3
   },
   "file_extension": ".py",
   "mimetype": "text/x-python",
   "name": "python",
   "nbconvert_exporter": "python",
   "pygments_lexer": "ipython3",
   "version": "3.8.8"
  }
 },
 "nbformat": 4,
 "nbformat_minor": 5
}
