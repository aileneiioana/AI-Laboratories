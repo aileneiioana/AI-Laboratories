{
 "cells": [
  {
   "cell_type": "code",
   "execution_count": 1,
   "id": "c470592e-5940-4b40-850b-ddbc3af6f179",
   "metadata": {},
   "outputs": [
    {
     "name": "stdout",
     "output_type": "stream",
     "text": [
      "Produsul scalar= 9\n",
      "Norma lui x= 3.0\n",
      "Normalui y= 4.242640687119285\n",
      "Cosinus dintre x si y= 0.7071067811865476\n"
     ]
    }
   ],
   "source": [
    "import numpy as np\n",
    "import math\n",
    "x=np.array([2,1,2])\n",
    "y=np.array([1,-1,4])\n",
    "prod=np.dot(x,y)\n",
    "print(\"Produsul scalar= \"+str(prod))\n",
    "x_norma=math.sqrt(np.dot(x.T,x))\n",
    "y_norma=math.sqrt(np.dot(y.T,y))\n",
    "print(\"Norma lui x= \"+str(x_norma))\n",
    "print(\"Normalui y= \"+str(y_norma))\n",
    "cos=prod/(x_norma*y_norma)\n",
    "print(\"Cosinus dintre x si y= \"+ str(cos))"
   ]
  },
  {
   "cell_type": "code",
   "execution_count": 1,
   "id": "26cf2a26-c07d-4e3c-a220-3894209792c4",
   "metadata": {},
   "outputs": [
    {
     "name": "stdout",
     "output_type": "stream",
     "text": [
      "[-1, -1, -1]\n",
      " se afla in clasa 2\n",
      "[-1, -1, 1]\n",
      " se afla in clasa 2\n",
      "[-1, 1, -1]\n",
      " se afla in clasa 2\n",
      "[-1, 1, 1]\n",
      " se afla in clasa 1\n",
      "[1, -1, -1]\n",
      " se afla in clasa 2\n",
      "[1, -1, 1]\n",
      " se afla in clasa 1\n",
      "[1, 1, -1]\n",
      " se afla in clasa 1\n",
      "[1, 1, 1]\n",
      " se afla in clasa 1\n"
     ]
    }
   ],
   "source": [
    "import numpy as np\n",
    "def clasificator(x):\n",
    "    np_x=np.array(x)\n",
    "    sum=np.sum(x)\n",
    "    if(sum>0): \n",
    "        print (\" se afla in clasa 1\")\n",
    "    else:\n",
    "        if(sum<0):\n",
    "             print(\" se afla in clasa 2\")\n",
    "        \n",
    "p=[[-1,-1,-1],[-1,-1,1],[-1,1,-1],[-1,1,1],[1,-1,-1],[1,-1,1],[1,1,-1],[1,1,1]]\n",
    "for i in p:\n",
    "    print(i);clasificator(i)\n",
    "    "
   ]
  },
  {
   "cell_type": "code",
   "execution_count": 20,
   "id": "12f89610-fe29-4401-9885-fe237ee28187",
   "metadata": {},
   "outputs": [
    {
     "name": "stdout",
     "output_type": "stream",
     "text": [
      "Punctele stabile sunt: [(-1, -1, 1), (1, 1, -1)]\n"
     ]
    }
   ],
   "source": [
    "import numpy as np\n",
    "def memorie(x1,x2,x3):\n",
    "    while True:\n",
    "        y1=np.sign(x2-x3)\n",
    "        y2=np.sign(x1-x3)\n",
    "        y3=np.sign(-x1-x2)\n",
    "        if(y1==x1 and y2==x2 and y3==x3): break\n",
    "        else: x1=y1; x2=y2; x3=y3\n",
    "    return(x1,x2,x3)\n",
    "p=[[-1,-1,-1],[-1,-1,1],[-1,1,-1],[-1,1,1],[1,-1,-1],[1,-1,1],[1,1,-1],[1,1,1]]\n",
    "m=[]\n",
    "for i in p:\n",
    "     if((memorie(i[0],i[1],i[2]) in m) == False):\n",
    "        m.append(memorie(i[0],i[1],i[2]))\n",
    "print(\"Punctele stabile sunt: \"+str(m))\n"
   ]
  }
 ],
 "metadata": {
  "kernelspec": {
   "display_name": "Python 3",
   "language": "python",
   "name": "python3"
  },
  "language_info": {
   "codemirror_mode": {
    "name": "ipython",
    "version": 3
   },
   "file_extension": ".py",
   "mimetype": "text/x-python",
   "name": "python",
   "nbconvert_exporter": "python",
   "pygments_lexer": "ipython3",
   "version": "3.8.8"
  }
 },
 "nbformat": 4,
 "nbformat_minor": 5
}
