{
 "cells": [
  {
   "cell_type": "code",
   "execution_count": 93,
   "id": "07b47a29-fafd-4b6a-b437-cdcfcabc10b7",
   "metadata": {},
   "outputs": [
    {
     "name": "stdout",
     "output_type": "stream",
     "text": [
      "cluster 1:[[40, 80], [43, 87]]\n",
      "cluster 2:[[50, 43], [55, 42], [200, 43], [48, 40], [195, 41], [190, 40]]\n",
      "cluster 3:[[45, 85]]\n",
      "centroizi:[[41.5, 83.5], [123.0, 41.5], [45.0, 85.0]]\n",
      "\n",
      "cluster 1:[[40, 80]]\n",
      "cluster 2:[[200, 43], [195, 41], [190, 40]]\n",
      "cluster 3:[[45, 85], [50, 43], [55, 42], [48, 40], [43, 87]]\n",
      "centroizi:[[40.0, 80.0], [195.0, 41.33], [48.2, 59.4]]\n",
      "\n",
      "cluster 1:[[45, 85], [40, 80], [43, 87]]\n",
      "cluster 2:[[200, 43], [195, 41], [190, 40]]\n",
      "cluster 3:[[50, 43], [55, 42], [48, 40]]\n",
      "centroizi:[[42.67, 84.0], [195.0, 41.33], [51.0, 41.67]]\n",
      "\n",
      "cluster 1:[[45, 85], [40, 80], [43, 87]]\n",
      "cluster 2:[[200, 43], [195, 41], [190, 40]]\n",
      "cluster 3:[[50, 43], [55, 42], [48, 40]]\n"
     ]
    }
   ],
   "source": [
    "import random\n",
    "def centrozom(cluster):\n",
    "    c1=0\n",
    "    c2=0\n",
    "    for c in range(0,len(cluster)):\n",
    "        c1+=cluster[c][0]\n",
    "        c2+=cluster[c][1]\n",
    "    c1=np.round(c1/len(cluster),2)\n",
    "    c2=np.round(c2/len(cluster),2)\n",
    "    return[c1,c2]\n",
    "import numpy as np\n",
    "A=[[45,85],[50,43],[40,80],[55,42],[200,43],[48,40],[195,41],[43,87],[190,40]]\n",
    "#A=[[2, 10], [2, 5], [8, 4],[5, 8],[7, 5],[6, 4],[1, 2],[4, 9]]\n",
    "k1=random.choice(A)\n",
    "k2=random.choice(A)\n",
    "k3=random.choice(A)\n",
    "k=[]\n",
    "cluster1=[]\n",
    "cluster2=[]\n",
    "cluster3=[]\n",
    "d_array=[]\n",
    "k.append(k1)\n",
    "k.append(k2)\n",
    "k.append(k3)\n",
    "while(1):\n",
    "    for i in  range(0,len(A)):\n",
    "        for j in  range(0,len(k)):\n",
    "            d=np.round(abs(A[i][0]-k[j][0])+abs(A[i][1]-k[j][1]),2)\n",
    "            d_array.append(d)\n",
    "        d_min=np.min(d_array)\n",
    "        index=d_array.index(d_min)\n",
    "        if(index==0):\n",
    "            cluster1.append(A[i])\n",
    "        if(index==1):\n",
    "            cluster2.append(A[i])\n",
    "        if(index==2):\n",
    "            cluster3.append(A[i])\n",
    "        d_array.clear()\n",
    "    k1=centrozom(cluster1)\n",
    "    k2=centrozom(cluster2) \n",
    "    k3=centrozom(cluster3)\n",
    "    print(\"cluster 1:\" +str(cluster1))\n",
    "    print(\"cluster 2:\" +str(cluster2))\n",
    "    print(\"cluster 3:\" +str(cluster3))\n",
    "    cluster1.clear()\n",
    "    cluster2.clear()\n",
    "    cluster3.clear()\n",
    "    if(k[0]==k1 and k[\n",
    "        1]==k2 and k[2]==k3):\n",
    "         break\n",
    "    else:\n",
    "                k.clear();\n",
    "                k.append(k1)\n",
    "                k.append(k2)\n",
    "                k.append(k3)\n",
    "    print(\"centroizi:\"+str(k))\n",
    "    print()"
   ]
  },
  {
   "cell_type": "code",
   "execution_count": null,
   "id": "ef4ff265-a786-4dcd-9d5e-3db7bb91aec2",
   "metadata": {},
   "outputs": [],
   "source": []
  },
  {
   "cell_type": "code",
   "execution_count": null,
   "id": "512455bd-2543-4e25-990d-c85719c9a595",
   "metadata": {},
   "outputs": [],
   "source": []
  }
 ],
 "metadata": {
  "kernelspec": {
   "display_name": "Python 3",
   "language": "python",
   "name": "python3"
  },
  "language_info": {
   "codemirror_mode": {
    "name": "ipython",
    "version": 3
   },
   "file_extension": ".py",
   "mimetype": "text/x-python",
   "name": "python",
   "nbconvert_exporter": "python",
   "pygments_lexer": "ipython3",
   "version": "3.8.8"
  }
 },
 "nbformat": 4,
 "nbformat_minor": 5
}
