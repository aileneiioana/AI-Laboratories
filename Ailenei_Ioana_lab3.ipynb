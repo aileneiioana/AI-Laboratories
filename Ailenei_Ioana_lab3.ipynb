{
 "cells": [
  {
   "cell_type": "code",
   "execution_count": 6,
   "id": "942ed612-37fc-4a65-a481-8c5509cae0ee",
   "metadata": {},
   "outputs": [
    {
     "name": "stdout",
     "output_type": "stream",
     "text": [
      "algortmul pentru f(x), xo=10,c=0.1\n",
      "3.0\n",
      "0.5999999999999996\n",
      "1.08\n",
      "0.984\n",
      "1.0032\n",
      "0.99936\n",
      "1.0001280000000001\n",
      "0.9999743999999999\n",
      "1.0000051200000002\n",
      "0.9999989759999999\n",
      "algortmul pentru f(x), xo=10,c=0.05\n",
      "3.0\n",
      "1.7999999999999998\n",
      "1.3199999999999998\n",
      "1.128\n",
      "1.0512\n",
      "1.0204799999999998\n",
      "1.008192\n",
      "1.0032768\n",
      "1.00131072\n",
      "1.000524288\n",
      "1.0002097152\n",
      "1.00008388608\n",
      "1.000033554432\n",
      "1.0000134217728\n",
      "1.00000536870912\n",
      "1.000002147483648\n",
      "algortmul pentru f(x), xo=10,c=0.1,dubland nr de iteratii\n",
      "10.0\n",
      "4.6\n",
      "2.44\n",
      "1.5759999999999998\n",
      "1.2304\n",
      "1.09216\n",
      "1.036864\n",
      "1.0147456\n",
      "1.00589824\n",
      "1.002359296\n",
      "1.0009437184\n",
      "1.00037748736\n",
      "1.000150994944\n",
      "1.0000603979776\n",
      "1.00002415919104\n",
      "1.000009663676416\n",
      "1.0000038654705663\n"
     ]
    }
   ],
   "source": [
    "import numpy as np\n",
    "\n",
    "def gradient(\n",
    "    x0, c, n_iter=50, tolerance=1e-06\n",
    "):\n",
    "    x = x0\n",
    "    for _ in range(n_iter):\n",
    "        diff = -c* (12*x-12)\n",
    "        if np.all(np.abs(diff) <= tolerance):\n",
    "            break\n",
    "        print (x)\n",
    "        x += diff\n",
    "        \n",
    "print(\"algortmul pentru f(x), xo=10,c=0.1\")\n",
    "gradient( x0=3.0, c=0.1)\n",
    "print(\"algortmul pentru f(x), xo=10,c=0.05\")\n",
    "gradient(x0=3.0,c=0.05)\n",
    "print(\"algortmul pentru f(x), xo=10,c=0.1,dubland nr de iteratii\")\n",
    "gradient(x0=10.0,c=0.05,n_iter=100)\n",
    "\n",
    "\n",
    "#def gradient(x0,c):\n",
    "   # while (1):\n",
    "  #      x=x0-c*(12*x0-12)\n",
    "  #      print(x)\n",
    "  #      if((x-x0)>0.0001): break\n",
    "   #     x0=x\n",
    "#print(\"rezultatele pentru f(x), c=0.1, x0=8:\")\n",
    "#gradient(8,0.1)\n",
    "#print(\"rezultatele pentru f(x), c=0.05, x0=8:\")\n",
    "#gradient(8,0.05)\n"
   ]
  },
  {
   "cell_type": "code",
   "execution_count": 11,
   "id": "579933e4-4d02-44d9-b432-c2cd2e7c3fab",
   "metadata": {},
   "outputs": [
    {
     "name": "stdout",
     "output_type": "stream",
     "text": [
      "algortmul pentr g(x)\n",
      "0.009931477959208571 0.004923007938320703\n",
      "algoritmul pentru g(x)(calculam simultan x,y)\n",
      "(0.02820621030565662, 0.00024086632521625316)\n"
     ]
    }
   ],
   "source": [
    "import numpy as np\n",
    "def gradient( gradient, x0, c, n_iter=50, tolerance=1e-04):\n",
    "    x = x0\n",
    "    for _ in range(n_iter):\n",
    "        diff = -c * gradient(x)\n",
    "        if np.all(np.abs(diff) <= tolerance):\n",
    "            break\n",
    "        x += diff\n",
    "    return x\n",
    "print(\"algortmul pentr g(x)\")\n",
    "print(gradient( gradient=lambda x: 2 * x, x0=10.0, c=0.005,n_iter=1000),gradient(gradient=lambda y:4*y,x0=10.0,c=0.005,n_iter=1000))\n",
    "\n",
    "def gradient1( gradient1,gradient2, x0,y0, c, n_iter=50, tolerance=0.00001):\n",
    "    x = x0\n",
    "    y = y0\n",
    "    for _ in range(n_iter):\n",
    "        diff1 = -c * (gradient1(x))\n",
    "        diff2= -c* (gradient2(y))\n",
    "        if np.all(np.abs(diff1) <= tolerance or np.abs(diff2)<=tolerance):\n",
    "            break\n",
    "        x += diff1\n",
    "        y +=diff2\n",
    "    return (x,y)\n",
    "print(\"algoritmul pentru g(x)(calculam simultan x,y)\")\n",
    "print(gradient1( gradient1=lambda x: 2 * x,gradient2=lambda y:4*y, x0=3.0, y0=3.0,c=0.01,n_iter=100000))\n"
   ]
  },
  {
   "cell_type": "code",
   "execution_count": 14,
   "id": "2b57a96b-81df-4b92-8e63-3f5b10ba692c",
   "metadata": {},
   "outputs": [
    {
     "name": "stdout",
     "output_type": "stream",
     "text": [
      "algoritmul pentru h(x)\n",
      "(2.607763316733841, 1.6148171101470754)\n"
     ]
    }
   ],
   "source": [
    "import numpy as np\n",
    "def gradient( x0,y0, c, n_iter=50, tolerance=1e-04):\n",
    "    x = x0\n",
    "    y = y0\n",
    "    for _ in range(n_iter):\n",
    "        diff1 = -c *( -200*y*y+200*x-2)\n",
    "        diff2= -c* (400*y*y*y-400*x*y)\n",
    "        if np.all(np.abs(diff1) <= tolerance or np.abs(diff2)<=tolerance):\n",
    "            break\n",
    "        x += diff1\n",
    "        y +=diff2\n",
    "    return (x,y)\n",
    "print(\"algoritmul pentru h(x)\")\n",
    "print(gradient(  x0=2.0, y0=2.0,c=0.001,n_iter=100000))\n"
   ]
  },
  {
   "cell_type": "code",
   "execution_count": null,
   "id": "4d6a0f31-9b80-4860-b79c-01e059ab52d9",
   "metadata": {},
   "outputs": [],
   "source": []
  }
 ],
 "metadata": {
  "kernelspec": {
   "display_name": "Python 3",
   "language": "python",
   "name": "python3"
  },
  "language_info": {
   "codemirror_mode": {
    "name": "ipython",
    "version": 3
   },
   "file_extension": ".py",
   "mimetype": "text/x-python",
   "name": "python",
   "nbconvert_exporter": "python",
   "pygments_lexer": "ipython3",
   "version": "3.8.8"
  }
 },
 "nbformat": 4,
 "nbformat_minor": 5
}
